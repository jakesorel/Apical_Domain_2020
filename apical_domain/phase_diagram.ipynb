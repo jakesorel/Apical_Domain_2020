{
 "cells": [
  {
   "cell_type": "markdown",
   "metadata": {
    "collapsed": true,
    "pycharm": {
     "name": "#%% md\n"
    }
   },
   "source": [
    "This file reproduces the phase diagrams documented in Fig. 6H and Fig. S12M"
   ]
  },
  {
   "cell_type": "markdown",
   "source": [
    "First load the packages"
   ],
   "metadata": {
    "collapsed": false
   }
  },
  {
   "cell_type": "code",
   "source": [
    "from oneD_simulation import phase_space\n",
    "import matplotlib.pyplot as plt\n",
    "plt.rcParams.update({'pdf.fonttype': 42})"
   ],
   "metadata": {
    "collapsed": false,
    "pycharm": {
     "name": "#%% \n"
    }
   },
   "execution_count": null,
   "outputs": []
  },
  {
   "cell_type": "markdown",
   "source": [
    "Smaller phase diagram of $D_E$ and $E_{crit}$\n",
    "---------------------------------------------"
   ],
   "metadata": {
    "collapsed": false
   }
  },
  {
   "cell_type": "markdown",
   "source": [
    "First generate an instance of the class \"phase_space\""
   ],
   "metadata": {
    "collapsed": false
   }
  },
  {
   "cell_type": "code",
   "execution_count": null,
   "outputs": [],
   "source": [
    "ps = phase_space()"
   ],
   "metadata": {
    "collapsed": false,
    "pycharm": {
     "name": "#%% \n"
    }
   }
  },
  {
   "cell_type": "markdown",
   "source": [
    "Define the number of repeats to perform for each parameter combination"
   ],
   "metadata": {
    "collapsed": false
   }
  },
  {
   "cell_type": "code",
   "execution_count": null,
   "outputs": [],
   "source": [
    "ps.rep = 1"
   ],
   "metadata": {
    "collapsed": false,
    "pycharm": {
     "name": "#%% \n"
    }
   }
  },
  {
   "cell_type": "markdown",
   "source": [
    "Set temporal discretisation. Saves a 1D array of time-points to self.t_span\n",
    "\n",
    "---Parameters---\n",
    "\n",
    "dt: Time-step\n",
    "\n",
    "tfin: Final time-step"
   ],
   "metadata": {
    "collapsed": false
   }
  },
  {
   "cell_type": "code",
   "execution_count": null,
   "outputs": [],
   "source": [
    "ps.sim.set_t_span(0.5, 1000)"
   ],
   "metadata": {
    "collapsed": false,
    "pycharm": {
     "name": "#%% \n"
    }
   }
  },
  {
   "cell_type": "markdown",
   "source": [
    "Set the initial conditions of E\n",
    "\n",
    "The initial condition of E (self.y0), is given by a normal distribution,\n",
    "with mean \"mean\" and standard deviation \"SD\"\n",
    "\n",
    "If \"apical_on\" is True, then outside the apical membrane, self.y0 is set to 1e-17 (<<1)    "
   ],
   "metadata": {
    "collapsed": false
   }
  },
  {
   "cell_type": "code",
   "execution_count": null,
   "outputs": [],
   "source": [
    "ps.sim.set_initial(43.2,0.5)"
   ],
   "metadata": {
    "collapsed": false,
    "pycharm": {
     "name": "#%% \n"
    }
   }
  },
  {
   "cell_type": "markdown",
   "source": [
    "Phase space considers solutions when varying two parameters. So this function sets the **axis-labels** of the\n",
    "x and y axes\n",
    "\n",
    "---Parameters---\n",
    "\n",
    "xname: **Axis label** of the x-axis (**str**)\n",
    "\n",
    "yname: **Axis label** of the x-axis (**str**)"
   ],
   "metadata": {
    "collapsed": false
   }
  },
  {
   "cell_type": "code",
   "execution_count": null,
   "outputs": [],
   "source": [
    "ps.set_names(xname=r\"$log_{10} \\  D_E$\",yname=r\"$E_{crit}$\")"
   ],
   "metadata": {
    "collapsed": false,
    "pycharm": {
     "name": "#%% \n"
    }
   }
  },
  {
   "cell_type": "markdown",
   "source": [
    "Perform the parameter scan.\n",
    "\n",
    "Saves the parameter-scan to an **npy** file.\n",
    "\n",
    "Uses the **joblib** parallelisation package.\n",
    "\n",
    "---Parameters---\n",
    "\n",
    "xlim: Tuple, setting the minimum and maximum of the xvar to simulate over.\n",
    "    If xlim = (a,b), (where a < b)\n",
    "    then if xscale is \"log\", simulate between 10^a and 10^b\n",
    "    if xscale is \"reciprocal\", simulate between 1/b and 1/a\n",
    "    if xscale is \"normal\", then simulate between a and b\n",
    "\n",
    "ylim: Tuple, setting the minimum and maximum of the yvar to simulate over. Same rules as xvar\n",
    "\n",
    "xscale: Scale of the x-axis, setting the stepping of the parameter discretization. A **str**: either \"log\", \"reciprocal\" or \"normal\"\n",
    "\n",
    "yscale: Scale of y-axis. Same rules as xscale.\n",
    "\n",
    "resolution: Number of parameter discretisations to simulate over. Can be an **np.int32**, where paramter\n",
    "    discretisation number is same in x and y axis, or a **tuple** of **np.int32**, defining the number of\n",
    "    spatial discretisations for the x vs y axis\n",
    "\n",
    "xvar: **str** defining the x-axis attributed parameter. Must match nomencalture of the code precisely. e.g. \"D_E\"\n",
    "\n",
    "yvar: **str** defining the y-axis attributed parameter. Must match nomencalture of the code precisely. e.g. \"E_crit\"\n",
    "\n",
    "recalculate_initial: Recalculate the initial condition of the simulation for each repeat and each\n",
    "    parameter combination if **True**. Else the first initial condition is stored and re-used.\n"
   ],
   "metadata": {
    "collapsed": false
   }
  },
  {
   "cell_type": "code",
   "execution_count": null,
   "outputs": [],
   "source": [
    "ps.perform_param_scan(\"log\",\"linear\",(-1.5,0.5),(20,120),(25,25),xvar=\"D_E\",yvar=\"E_crit\",recalculate_initial=False)"
   ],
   "metadata": {
    "collapsed": false,
    "pycharm": {
     "name": "#%% \n"
    }
   }
  },
  {
   "cell_type": "markdown",
   "source": [
    "Make full parameter scan plot. \n",
    "\n",
    "Saves the plot to the **plots** directory as a PDF.\n",
    "\n",
    "---Parameters---\n",
    "\n",
    "out: **np.ndarray** of statistics for each parameter combination (**resolution x resolution**). E.g. **self.rel_height**\n",
    "\n",
    "xscale: Scale of the x-axis. Must be the same as in **self.perform_param_scan**.\n",
    "\n",
    "yscale: Scale of the y-axis. Must be the same as in **self.perform_param_scan**.\n",
    "\n",
    "percentile_lim: Cut-off for the colorbar, setting the maximum and minimum percentile of the statistic for which a color is attributed.\n",
    "\n",
    "cmap: **matplotlib.cm** object e.g. **matplotlib.cm.plasma**\n",
    "\n",
    "overlay_peaks: Overlay the number of peaks for each parameter combination (i.e. to identify multi-peak regimes).\n"
   ],
   "metadata": {
    "collapsed": false
   }
  },
  {
   "cell_type": "code",
   "execution_count": null,
   "outputs": [],
   "source": [
    "ps.plot_param_scan(ps.rel_height,xscale=\"log\",yscale=\"linear\",save=False,overlay_peaks=False)\n",
    "\n"
   ],
   "metadata": {
    "collapsed": false,
    "pycharm": {
     "name": "#%% \n"
    }
   }
  },
  {
   "cell_type": "markdown",
   "source": [
    "Larger phase diagram of $D_E$ and $E_{crit}$\n",
    "---------------------------------------------"
   ],
   "metadata": {
    "collapsed": false
   }
  },
  {
   "cell_type": "code",
   "source": [
    "ps = phase_space()\n",
    "ps.rep = 10\n",
    "ps.sim.set_t_span(0.5, 1000)\n",
    "ps.sim.set_initial(43.2,0.5)\n",
    "\n",
    "ps.set_names(xname=r\"$log_{10} \\  D_E$\",yname=r\"$E_{crit}$\")\n",
    "ps.perform_param_scan(\"log\",\"linear\",(-3,1),(20,180),(25,25),xvar=\"D_E\",yvar=\"E_crit\",recalculate_initial=True)\n",
    "ps.plot_param_scan(ps.rel_height,xscale=\"log\",yscale=\"linear\",save=True,overlay_peaks=True)\n"
   ],
   "metadata": {
    "collapsed": false,
    "pycharm": {
     "name": "#%% \n"
    }
   },
   "execution_count": null,
   "outputs": []
  }
 ],
 "metadata": {
  "kernelspec": {
   "display_name": "Python 3",
   "language": "python",
   "name": "python3"
  },
  "language_info": {
   "codemirror_mode": {
    "name": "ipython",
    "version": 2
   },
   "file_extension": ".py",
   "mimetype": "text/x-python",
   "name": "python",
   "nbconvert_exporter": "python",
   "pygments_lexer": "ipython2",
   "version": "2.7.6"
  },
  "pycharm": {
   "stem_cell": {
    "cell_type": "raw",
    "source": [],
    "metadata": {
     "collapsed": false
    }
   }
  }
 },
 "nbformat": 4,
 "nbformat_minor": 0
}