{
 "cells": [
  {
   "cell_type": "markdown",
   "metadata": {
    "collapsed": true,
    "pycharm": {
     "name": "#%% md\n"
    }
   },
   "source": [
    "This file performs the dimensionless simulation parameter scans."
   ]
  },
  {
   "cell_type": "markdown",
   "source": [
    "First load the packages"
   ],
   "metadata": {
    "collapsed": false,
    "pycharm": {
     "name": "#%% md\n"
    }
   }
  },
  {
   "cell_type": "code",
   "execution_count": null,
   "outputs": [],
   "source": [
    "from non_dimensional import simulation,phase_space"
   ],
   "metadata": {
    "collapsed": false,
    "pycharm": {
     "name": "#%%\n"
    }
   }
  },
  {
   "cell_type": "markdown",
   "source": [
    "Set some simulation parameters "
   ],
   "metadata": {
    "collapsed": false,
    "pycharm": {
     "name": "#%% md\n"
    }
   }
  },
  {
   "cell_type": "code",
   "execution_count": null,
   "outputs": [],
   "source": [
    "res = 25 #The resolution of the parameter sweep (in both x and y direction of the final plot)\n",
    "rep = 10 #Number of repeats per parameter combination\n",
    "vlimdelE = (0,1.5) #Minimum and maximum values to consider for the colorbar of $\\Delta e$\n",
    "vlimintE = (0,0.6) #Minimum and maximum values to consider for the colorbar of $\\int_0^1 e dy$"
   ],
   "metadata": {
    "collapsed": false,
    "pycharm": {
     "name": "#%%\n"
    }
   }
  },
  {
   "cell_type": "markdown",
   "source": [
    "$log_{10} \\lambda$ vs. $1 / \\epsilon$\n",
    "---"
   ],
   "metadata": {
    "collapsed": false
   }
  },
  {
   "cell_type": "code",
   "execution_count": null,
   "outputs": [],
   "source": [
    "ps = phase_space() #Generate instance of phase_space class\n",
    "ps.rep = rep #Define number of repeats\n",
    "ps.set_names(xname=r\"$log_{10} \\lambda$\",yname=r\"$1 / \\epsilon$\") #Set names for x and y axes\n",
    "ps.perform_param_scan((-5,-0.5),(2,20),\"log\",\"reciprocal\",res,xvar=\"lambd\",yvar=\"epsilon\") #Perform the parameter scan, using the named parameters \"lambd\" and \"epsilon\"\n",
    "ps.plot_param_scan(ps.rel_height,xscale=\"log\",yscale=\"reciprocal\",overlay_peaks=True,vlim=vlimdelE) #Plot parameter scan output for $\\Delta e$ \n",
    "ps.grey_cb = True\n",
    "ps.plot_param_scan(ps.rel_height,xscale=\"log\",yscale=\"reciprocal\",overlay_peaks=True,vlim=vlimdelE) #Generate the same figure, but with a colorbar for the number of multi-polar solutions\n",
    "ps.plot_param_scan(ps.amount,xscale=\"log\",yscale=\"reciprocal\",overlay_peaks=False,vlim=vlimintE) #Plot same but for amount"
   ],
   "metadata": {
    "collapsed": false,
    "pycharm": {
     "name": "#%%\n"
    }
   }
  },
  {
   "cell_type": "markdown",
   "source": [
    "$log_{10} \\lambda$ vs. $log_{10} \\zeta$\n",
    "---"
   ],
   "metadata": {
    "collapsed": false
   }
  },
  {
   "cell_type": "code",
   "execution_count": null,
   "outputs": [],
   "source": [
    "ps = phase_space()\n",
    "ps.rep = rep\n",
    "ps.set_names(xname=r\"$log_{10} \\lambda$\",yname=r\"$log_{10} \\zeta$\")\n",
    "ps.perform_param_scan((-5,-0.5),(0,4),\"log\",\"log\",res,xvar=\"lambd\",yvar=\"zeta\")\n",
    "ps.plot_param_scan(ps.rel_height,xscale=\"log\",yscale=\"log\",overlay_peaks=True,vlim=vlimdelE)\n",
    "ps.plot_param_scan(ps.amount,xscale=\"log\",yscale=\"log\",overlay_peaks=False,vlim=vlimintE)"
   ],
   "metadata": {
    "collapsed": false,
    "pycharm": {
     "name": "#%%\n"
    }
   }
  },
  {
   "cell_type": "markdown",
   "source": [
    "$log_{10} \\zeta$ vs. $1 / \\epsilon$\n",
    "---"
   ],
   "metadata": {
    "collapsed": false
   }
  },
  {
   "cell_type": "code",
   "execution_count": null,
   "outputs": [],
   "source": [
    "ps = phase_space()\n",
    "ps.rep = rep\n",
    "ps.set_names(xname=r\"$log_{10} \\zeta$\",yname=r\"$1 / \\epsilon$\")\n",
    "ps.perform_param_scan((0,4),(2,20),\"log\",\"reciprocal\",res,xvar=\"zeta\",yvar=\"epsilon\")\n",
    "ps.plot_param_scan(ps.rel_height,xscale=\"log\",yscale=\"reciprocal\",overlay_peaks=True,vlim=vlimdelE)\n",
    "ps.plot_param_scan(ps.amount,xscale=\"log\",yscale=\"reciprocal\",overlay_peaks=False,vlim=vlimintE)\n"
   ],
   "metadata": {
    "collapsed": false,
    "pycharm": {
     "name": "#%%\n"
    }
   }
  }
 ],
 "metadata": {
  "kernelspec": {
   "display_name": "Python 3",
   "language": "python",
   "name": "python3"
  },
  "language_info": {
   "codemirror_mode": {
    "name": "ipython",
    "version": 2
   },
   "file_extension": ".py",
   "mimetype": "text/x-python",
   "name": "python",
   "nbconvert_exporter": "python",
   "pygments_lexer": "ipython2",
   "version": "2.7.6"
  },
  "pycharm": {
   "stem_cell": {
    "cell_type": "raw",
    "source": [],
    "metadata": {
     "collapsed": false
    }
   }
  }
 },
 "nbformat": 4,
 "nbformat_minor": 0
}