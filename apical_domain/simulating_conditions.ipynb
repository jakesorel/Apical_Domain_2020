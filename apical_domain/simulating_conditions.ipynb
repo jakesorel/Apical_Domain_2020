{
 "cells": [
  {
   "cell_type": "markdown",
   "source": [
    "This file reproduces the simulations across the different genetic conditions we consider (Fig. 6G and Fig. S12L)\n",
    "\n",
    "Each block simulates one condition. Results are saved to a new directory \"plots\""
   ],
   "metadata": {
    "collapsed": false,
    "pycharm": {
     "name": "#%% md\n"
    }
   }
  },
  {
   "cell_type": "markdown",
   "source": [
    "First load the packages "
   ],
   "metadata": {
    "collapsed": false,
    "pycharm": {
     "name": "#%% md\n"
    }
   }
  },
  {
   "cell_type": "code",
   "execution_count": null,
   "metadata": {
    "collapsed": true,
    "pycharm": {
     "name": "#%% \n"
    }
   },
   "outputs": [],
   "source": [
    "from oneD_simulation import simulation, phase_space\n",
    "import matplotlib.pyplot as plt\n",
    "from matplotlib import cm\n",
    "import numpy as np\n",
    "plt.rcParams.update({'pdf.fonttype': 42})\n"
   ]
  },
  {
   "cell_type": "markdown",
   "source": [
    "Wildtype simulation"
   ],
   "metadata": {
    "collapsed": false,
    "pycharm": {
     "name": "#%% md\n"
    }
   }
  },
  {
   "cell_type": "code",
   "execution_count": null,
   "outputs": [],
   "source": [
    "sim = simulation()\n",
    "sim.set_num_x(100,apical_on=True)\n",
    "sim.set_t_span(0.5,1e3)\n",
    "sim.set_initial(43.2,0.5,apical_on=False)\n",
    "sim.solve()\n",
    "sim.get_apical_solution()\n",
    "N = 10\n",
    "cmap = cm.Reds(np.arange(N)/N)\n",
    "sim.plot_time_series(cmap,show=True,apical=True,filename=\"WT\",ylim=(0,200))"
   ],
   "metadata": {
    "collapsed": false,
    "pycharm": {
     "name": "#%%\n"
    }
   }
  },
  {
   "cell_type": "markdown",
   "source": [
    "Tead4-Tfap2c over-expression condition: increased $E_{crit}$"
   ],
   "metadata": {
    "collapsed": false,
    "pycharm": {
     "name": "#%% md\n"
    }
   }
  },
  {
   "cell_type": "code",
   "execution_count": null,
   "outputs": [],
   "source": [
    "sim = simulation()\n",
    "sim.set_num_x(100,apical_on=True)\n",
    "sim.set_t_span(0.5,1e3)\n",
    "sim.set_initial(43.2,0.5,apical_on=False)\n",
    "sim.E_crit =sim.E_crit*1.6\n",
    "sim.solve()\n",
    "sim.get_apical_solution()\n",
    "N = 10\n",
    "cmap = cm.Reds(np.arange(N)/N)\n",
    "sim.plot_time_series(cmap,show=True,apical=True,filename=\"TT\",ylim=(0,200))"
   ],
   "metadata": {
    "collapsed": false,
    "pycharm": {
     "name": "#%%\n"
    }
   }
  },
  {
   "cell_type": "markdown",
   "source": [
    "RhoA over-expression condition: increased $D_E$"
   ],
   "metadata": {
    "collapsed": false,
    "pycharm": {
     "name": "#%% md\n"
    }
   }
  },
  {
   "cell_type": "code",
   "execution_count": null,
   "outputs": [],
   "source": [
    "sim = simulation()\n",
    "sim.set_num_x(100,apical_on=True)\n",
    "sim.set_t_span(0.5,1e3)\n",
    "sim.set_initial(43.2,0.5,apical_on=False)\n",
    "sim.D_E = sim.D_E * 15\n",
    "sim.solve(apical_on=False)\n",
    "sim.get_apical_solution()\n",
    "N = 10\n",
    "cmap = cm.Reds(np.arange(N)/N)\n",
    "sim.plot_time_series(cmap,show=True,apical=True,filename=\"RHOOE\",ylim=(0,200))"
   ],
   "metadata": {
    "collapsed": false,
    "pycharm": {
     "name": "#%%\n"
    }
   }
  },
  {
   "cell_type": "markdown",
   "source": [
    "RhoA inhibition condition: decreased $D_E$"
   ],
   "metadata": {
    "collapsed": false,
    "pycharm": {
     "name": "#%% md\n"
    }
   }
  },
  {
   "cell_type": "code",
   "execution_count": null,
   "outputs": [],
   "source": [
    "sim = simulation()\n",
    "sim.set_num_x(100,apical_on=True)\n",
    "sim.set_t_span(0.5,1e3)\n",
    "sim.set_initial(43.2,0.5,apical_on=False)\n",
    "sim.D_E = sim.D_E * 0.01\n",
    "sim.solve(apical_on=False)\n",
    "sim.get_apical_solution()\n",
    "N = 10\n",
    "cmap = cm.Reds(np.arange(N)/N)\n",
    "sim.plot_time_series(cmap,show=True,apical=True,filename=\"RHO inh\",ylim=(0,200))"
   ],
   "metadata": {
    "collapsed": false,
    "pycharm": {
     "name": "#%%\n"
    }
   }
  },
  {
   "cell_type": "markdown",
   "source": [
    "RhoA, Tead4, Tfap2c over-expression condition: increased $D_E$ and $E_{crit}$"
   ],
   "metadata": {
    "collapsed": false,
    "pycharm": {
     "name": "#%% md\n"
    }
   }
  },
  {
   "cell_type": "code",
   "execution_count": null,
   "outputs": [],
   "source": [
    "sim = simulation()\n",
    "sim.set_num_x(100,apical_on=True)\n",
    "sim.set_t_span(0.5,1e3)\n",
    "sim.set_initial(43.2,0.5,apical_on=False)\n",
    "sim.E_crit =sim.E_crit*1.6\n",
    "sim.D_E = sim.D_E * 2.5\n",
    "sim.solve(apical_on=False)\n",
    "sim.get_apical_solution()\n",
    "N = 10\n",
    "cmap = cm.Reds(np.arange(N)/N)\n",
    "sim.plot_time_series(cmap,show=True,apical=True,filename=\"TTR\",ylim=(0,200))\n"
   ],
   "metadata": {
    "collapsed": false,
    "pycharm": {
     "name": "#%%\n"
    }
   }
  }
 ],
 "metadata": {
  "kernelspec": {
   "display_name": "Python 3",
   "language": "python",
   "name": "python3"
  },
  "language_info": {
   "codemirror_mode": {
    "name": "ipython",
    "version": 2
   },
   "file_extension": ".py",
   "mimetype": "text/x-python",
   "name": "python",
   "nbconvert_exporter": "python",
   "pygments_lexer": "ipython2",
   "version": "2.7.6"
  },
  "pycharm": {
   "stem_cell": {
    "cell_type": "raw",
    "source": [],
    "metadata": {
     "collapsed": false
    }
   }
  }
 },
 "nbformat": 4,
 "nbformat_minor": 0
}