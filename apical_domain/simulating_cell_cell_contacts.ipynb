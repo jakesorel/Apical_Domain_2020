{
 "cells": [
  {
   "cell_type": "markdown",
   "source": [
    "This file analyzes the role of cell-cell contacts, modeled as a positionally dependent on rate"
   ],
   "metadata": {
    "collapsed": false
   }
  },
  {
   "cell_type": "markdown",
   "metadata": {
    "collapsed": true,
    "pycharm": {
     "name": "#%% md\n"
    }
   },
   "source": [
    "First load the packages"
   ]
  },
  {
   "cell_type": "code",
   "source": [
    "from oneD_simulation import simulation, phase_space\n",
    "import matplotlib.pyplot as plt\n",
    "from matplotlib import cm\n",
    "import numpy as np\n",
    "plt.rcParams.update({'pdf.fonttype': 42})\n"
   ],
   "metadata": {
    "collapsed": false,
    "pycharm": {
     "name": "#%% \n"
    }
   },
   "execution_count": null,
   "outputs": []
  },
  {
   "cell_type": "markdown",
   "source": [
    "Simulation dynamics\n",
    "------\n",
    "\n",
    "Perform two simulations (\"sim\" and \"sim2\"), one without cell-cell contacts and one with. \n",
    "\n",
    "Simulating with cell-cell contacts involves a positionally biased association term, coded in the \"solve\" function with the parameter \"apical_on = True\"\n",
    "\n",
    "Details are provided in the Supplementary Modeling\n",
    "\n",
    "Plots are saved to the \"plots\" directory "
   ],
   "metadata": {
    "collapsed": false
   }
  },
  {
   "cell_type": "code",
   "execution_count": null,
   "outputs": [],
   "source": [
    "sim = simulation()\n",
    "sim.set_num_x(100,apical_on=True)\n",
    "sim.set_t_span(10,1000)\n",
    "sim.set_initial(40,1)\n",
    "sim.k_on = sim.k_off\n",
    "sim.solve()\n",
    "sim.get_apical_solution()\n",
    "N = 10\n",
    "cmap = cm.Reds(np.arange(N)/N)\n",
    "sim.plot_time_series(cmap,show=True,apical=True,ylim=(0,200))\n",
    "\n",
    "\n",
    "sim2 = simulation()\n",
    "sim2.set_num_x(100,apical_on=True)\n",
    "sim2.set_t_span(10,1000)\n",
    "sim2.set_initial(40,1,apical_on=True)\n",
    "sim2.solve(apical_on=True)\n",
    "sim2.get_apical_solution()\n",
    "N = 10\n",
    "cmap = cm.Reds(np.arange(N)/N)\n",
    "sim2.plot_time_series(cmap,show=True,apical=True,ylim=(0,200))\n"
   ],
   "metadata": {
    "collapsed": false,
    "pycharm": {
     "name": "#%% \n"
    }
   }
  },
  {
   "cell_type": "markdown",
   "source": [
    "Plot kymographs of simulations with and without cell-cell contacts"
   ],
   "metadata": {
    "collapsed": false
   }
  },
  {
   "cell_type": "code",
   "execution_count": null,
   "outputs": [],
   "source": [
    "fig, ax = plt.subplots(1,2,figsize=(4,4))\n",
    "fig.subplots_adjust(wspace=0.15, hspace=None)\n",
    "ax[0].set_title(\"Without \\n cell-contacts\",fontsize=12)\n",
    "ax[1].set_title(\"With \\n cell-contacts\",fontsize=12)\n",
    "\n",
    "vmin=10;vmax=100\n",
    "\n",
    "t_span = sim.t_span\n",
    "\n",
    "extent = [0,100,0,sim.l_apical]\n",
    "ax[0].imshow(sim.ysol_apical.T,extent=extent,vmin=vmin,vmax=vmax)\n",
    "ax[1].imshow(sim2.ysol_apical.T,extent = extent,vmin=vmin,vmax=vmax)\n",
    "ax[0].set(aspect=(extent[0]-extent[1])/(extent[2]-extent[3]),xlabel=\"Time (%)\",ylabel=\"Position (µm)\")\n",
    "ax[1].set(aspect=(extent[0]-extent[1])/(extent[2]-extent[3]),xlabel=\"Time (%)\")\n",
    "ax[1].axes.set_yticks([])\n",
    "fig.savefig(\"plots/cell_contacts kymo.pdf\",dpi=300)"
   ],
   "metadata": {
    "collapsed": false,
    "pycharm": {
     "name": "#%% \n"
    }
   }
  },
  {
   "cell_type": "markdown",
   "source": [
    "Orientation bias when in the presence of cell-cell contacts\n",
    "---\n",
    "\n",
    "Some functions to calculate the orientation of the apical domain. And to generate the rose plots"
   ],
   "metadata": {
    "collapsed": false
   }
  },
  {
   "cell_type": "code",
   "source": [
    "def get_angles(n,apical_on):\n",
    "    theta = []\n",
    "    for i in range(n):\n",
    "        sim2 = simulation()\n",
    "        sim2.set_num_x(100, apical_on=True)\n",
    "        sim2.set_t_span(10, 900)\n",
    "        sim2.set_initial(40, 1)\n",
    "        sim2.solve(apical_on=apical_on)\n",
    "        i_max = np.absolute(sim2.ysol[-1] - sim2.ysol[-1].max()).argmin()\n",
    "        theta.append(2*np.pi*i_max/sim2.num_x)\n",
    "    return theta\n",
    "\n",
    "\n",
    "\n",
    "def rose_plot(ax, angles, bins=16, density=None, offset=0, lab_unit=\"degrees\",\n",
    "              start_zero=False, **param_dict):\n",
    "    \"\"\"\n",
    "    Plot polar histogram of angles on ax. ax must have been created using\n",
    "    subplot_kw=dict(projection='polar'). Angles are expected in radians.\n",
    "    \n",
    "    Courtesy of https://jwalton.info/Matplotlib-rose-plots/\n",
    "    \"\"\"\n",
    "    # Wrap angles to [-pi, pi)\n",
    "    angles = (angles + np.pi) % (2*np.pi) - np.pi\n",
    "\n",
    "    # Set bins symetrically around zero\n",
    "    if start_zero:\n",
    "        # To have a bin edge at zero use an even number of bins\n",
    "        if bins % 2:\n",
    "            bins += 1\n",
    "        bins = np.linspace(-np.pi, np.pi, num=bins+1)\n",
    "\n",
    "    # Bin data and record counts\n",
    "    count, bin = np.histogram(angles, bins=bins)\n",
    "\n",
    "    # Compute width of each bin\n",
    "    widths = np.diff(bin) + 1e-2\n",
    "\n",
    "    # By default plot density (frequency potentially misleading)\n",
    "    if density is None or density is True:\n",
    "        # Area to assign each bin\n",
    "        area = count / angles.size\n",
    "        # Calculate corresponding bin radius\n",
    "        radius = (area / np.pi)**.5\n",
    "    else:\n",
    "        radius = count\n",
    "\n",
    "    # Plot data on ax\n",
    "    ax.bar(bin[:-1], radius, zorder=1, align='edge', width=widths,\n",
    "            color=\"darkred\",linewidth=0)\n",
    "\n",
    "    # Set the direction of the zero angle\n",
    "    ax.set_theta_offset(offset)\n",
    "\n",
    "    # Remove ylabels, they are mostly obstructive and not informative\n",
    "    ax.set_yticks([])\n",
    "\n",
    "    if lab_unit == \"radians\":\n",
    "        label = [r'$\\pi/2$', r'$\\pi/4$','$0$', r'$-\\pi/4$', r'$-\\pi/2$', r'$-3\\pi/4$',\n",
    "                  r'$\\pi$', r'$-3\\pi/4$']\n",
    "        ax.set_xticklabels(label)\n",
    "    if lab_unit == \"degrees\":\n",
    "        label = [r'$90 \\degree$', r'$45 \\degree$', r'$0 \\degree$', r'$-45 \\degree$', r'$-90 \\degree$', r'$-135 \\degree$',\n",
    "                 r'$180 \\degree$', r'$135 \\degree$']\n",
    "        ax.set_xticklabels(label)\n",
    "    ax.yaxis.grid(False)"
   ],
   "metadata": {
    "collapsed": false,
    "pycharm": {
     "name": "#%% \n"
    }
   },
   "execution_count": null,
   "outputs": []
  },
  {
   "cell_type": "markdown",
   "source": [
    "Perform the simulations. Each condition is simulated 100 times, given different random initial conditions"
   ],
   "metadata": {
    "collapsed": false,
    "pycharm": {
     "name": "#%% md\n"
    }
   }
  },
  {
   "cell_type": "code",
   "execution_count": null,
   "outputs": [],
   "source": [
    "wcc = get_angles(n=100,apical_on=True)\n",
    "wocc = get_angles(n=100,apical_on=False)\n",
    "angles0 = -np.array(wocc) - np.pi/2\n",
    "angles1 = -np.array(wcc) - np.pi/2"
   ],
   "metadata": {
    "collapsed": false,
    "pycharm": {
     "name": "#%%\n"
    }
   }
  },
  {
   "cell_type": "markdown",
   "source": [
    "Plot the results"
   ],
   "metadata": {
    "collapsed": false,
    "pycharm": {
     "name": "#%% md\n"
    }
   }
  },
  {
   "cell_type": "code",
   "execution_count": null,
   "outputs": [],
   "source": [
    "fig, ax = plt.subplots(1, 2, subplot_kw=dict(projection='polar'),figsize=(5,3))\n",
    "rose_plot(ax[0], angles0,start_zero=True,bins=21,density=True, lab_unit=\"degrees\",offset=0)\n",
    "rose_plot(ax[1], angles1,bins=21,start_zero=True, density=True,lab_unit=\"degrees\",offset=0)\n",
    "for axx in ax:\n",
    "    axx.set(ylim=(0,0.6))\n",
    "    axx.grid(b=None)\n",
    "# fig.GridColor = 'red'\n",
    "ax[0].set_title(\"Without \\n cell-cell contacts \\n\")\n",
    "ax[1].set_title(\"With \\n cell-cell contacts \\n\")\n",
    "fig.show()\n",
    "fig.savefig(\"plots/rose.pdf\",dpi=300)"
   ],
   "metadata": {
    "collapsed": false,
    "pycharm": {
     "name": "#%%\n"
    }
   }
  }
 ],
 "metadata": {
  "kernelspec": {
   "display_name": "Python 3",
   "language": "python",
   "name": "python3"
  },
  "language_info": {
   "codemirror_mode": {
    "name": "ipython",
    "version": 2
   },
   "file_extension": ".py",
   "mimetype": "text/x-python",
   "name": "python",
   "nbconvert_exporter": "python",
   "pygments_lexer": "ipython2",
   "version": "2.7.6"
  },
  "pycharm": {
   "stem_cell": {
    "cell_type": "raw",
    "source": [],
    "metadata": {
     "collapsed": false
    }
   }
  }
 },
 "nbformat": 4,
 "nbformat_minor": 0
}