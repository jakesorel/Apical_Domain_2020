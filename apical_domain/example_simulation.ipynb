{
 "cells": [
  {
   "cell_type": "markdown",
   "metadata": {
    "collapsed": true,
    "pycharm": {
     "name": "#%% md\n"
    }
   },
   "source": [
    "This file allows for the simulation of the WT condition (using parameters derived from the inference procedure we document in the Supplementary Modeling)\n"
   ]
  },
  {
   "cell_type": "markdown",
   "source": [
    "First load the packages"
   ],
   "metadata": {
    "collapsed": false
   }
  },
  {
   "cell_type": "code",
   "execution_count": null,
   "outputs": [],
   "source": [
    "from oneD_simulation import simulation, phase_space\n",
    "import matplotlib.pyplot as plt\n",
    "from matplotlib import cm\n",
    "import numpy as np\n",
    "plt.rcParams.update({'pdf.fonttype': 42})"
   ],
   "metadata": {
    "collapsed": false,
    "pycharm": {
     "name": "#%%\n"
    }
   }
  },
  {
   "cell_type": "markdown",
   "source": [
    "Initialize an instance of the class $simulation$"
   ],
   "metadata": {
    "collapsed": false
   }
  },
  {
   "cell_type": "code",
   "execution_count": null,
   "outputs": [],
   "source": [
    "sim = simulation()"
   ],
   "metadata": {
    "collapsed": false,
    "pycharm": {
     "name": "#%%\n"
    }
   }
  },
  {
   "cell_type": "markdown",
   "source": [
    "Sets spatial discretisation of number num_x\n",
    "\n",
    "if apical_on is Tru, then n specifies the number of spatial blocks within the apical domain, and **self.num_x** is computed with respect to the ratio of elf.l_apical and\n",
    "self.L (the full domain length i.e. cell perimeter)\n",
    "\n",
    "if apical_on is False, then n defines self.num_x"
   ],
   "metadata": {
    "collapsed": false
   }
  },
  {
   "cell_type": "code",
   "execution_count": null,
   "outputs": [],
   "source": [
    "sim.set_num_x(100,apical_on=True)"
   ],
   "metadata": {
    "collapsed": false,
    "pycharm": {
     "name": "#%%\n"
    }
   }
  },
  {
   "cell_type": "markdown",
   "source": [
    "Sets temporal discretisation. Saves a 1D array of time-points to self.t_span\n",
    "\n",
    "---Parameters---\n",
    "\n",
    "dt: Time-step\n",
    "\n",
    "tfin: Final time-step"
   ],
   "metadata": {
    "collapsed": false
   }
  },
  {
   "cell_type": "code",
   "execution_count": null,
   "outputs": [],
   "source": [
    "sim.set_t_span(0.5,1e3)"
   ],
   "metadata": {
    "collapsed": false,
    "pycharm": {
     "name": "#%%\n"
    }
   }
  },
  {
   "cell_type": "markdown",
   "source": [
    "Set the initial conditions of E\n",
    "\n",
    "The initial condition of E (self.y0), is given by a normal distribution,\n",
    "with mean \"mean\" and standard deviation \"SD\"\n",
    "\n",
    "If \"apical_on\" is True, then outside the apical membrane, self.y0 is set to 1e-17 (<<1)    "
   ],
   "metadata": {
    "collapsed": false
   }
  },
  {
   "cell_type": "code",
   "execution_count": null,
   "outputs": [],
   "source": [
    "sim.set_initial(mean=43.2,SD=0.5,apical_on=False)"
   ],
   "metadata": {
    "collapsed": false,
    "pycharm": {
     "name": "#%%\n"
    }
   }
  },
  {
   "cell_type": "markdown",
   "source": [
    "Perform the simulation. Uses the **scipy.integrate.odeint** package to integrate the defined system of PDEs.\n",
    "\n",
    "If **apical_on** is **True**, then simulate with cell-cell contacts (where loading is restricted to the apical membrane)\n",
    "\n",
    "If **apical_on** is **False**, then simulate without cell-cell contacts."
   ],
   "metadata": {
    "collapsed": false
   }
  },
  {
   "cell_type": "code",
   "execution_count": null,
   "outputs": [],
   "source": [
    "sim.solve(apical_on=False)"
   ],
   "metadata": {
    "collapsed": false,
    "pycharm": {
     "name": "#%%\n"
    }
   }
  },
  {
   "cell_type": "markdown",
   "source": [
    "Crop the solution down to just the apical membrane (as defined by **self.l_apical** versus **self.L**).\n",
    "\n",
    "The solution is first centred before cropping."
   ],
   "metadata": {
    "collapsed": false
   }
  },
  {
   "cell_type": "code",
   "execution_count": null,
   "outputs": [],
   "source": [
    "sim.get_apical_solution()"
   ],
   "metadata": {
    "collapsed": false,
    "pycharm": {
     "name": "#%%\n"
    }
   }
  },
  {
   "cell_type": "markdown",
   "source": [
    "Plot time-series of the simulation, as an overlayed set of lines.\n",
    "\n",
    "The number of time-points that are sampled is set by the parameter **cmap**, a (n_sample x 4) **np.ndarray** of\n",
    "RGBA colour points. **cmap** can be generated using plt.cm.Reds(np.linspace(0,1,n_sample)) for example.\n",
    "\n",
    "---Parameters---\n",
    "\n",
    "cmap: The colormap used to plot the solution (a **np.ndarray**)\n",
    "\n",
    "show: If **True**, then show the plot.\n",
    "\n",
    "filename: **str** defining the file-name of the plot if is being saved. If **False** then the plot is not saved.\n",
    "\n",
    "apical: Determines whether to plot the whole membrane (**False**) or just the apical membrane (**True**) (**np.bool**)\n",
    "\n",
    "ylim: Axis limits on the y-axis (i.e. the concentration of **E**) (**tuple**)\n"
   ],
   "metadata": {
    "collapsed": false
   }
  },
  {
   "cell_type": "code",
   "execution_count": null,
   "outputs": [],
   "source": [
    "N = 10\n",
    "cmap = cm.Reds(np.arange(N)/N)\n",
    "sim.plot_time_series(cmap,show=True,apical=True,filename=\"WT\",ylim=(0,200))"
   ],
   "metadata": {
    "collapsed": false,
    "pycharm": {
     "name": "#%%\n"
    }
   }
  }
 ],
 "metadata": {
  "kernelspec": {
   "display_name": "Python 3",
   "language": "python",
   "name": "python3"
  },
  "language_info": {
   "codemirror_mode": {
    "name": "ipython",
    "version": 2
   },
   "file_extension": ".py",
   "mimetype": "text/x-python",
   "name": "python",
   "nbconvert_exporter": "python",
   "pygments_lexer": "ipython2",
   "version": "2.7.6"
  },
  "pycharm": {
   "stem_cell": {
    "cell_type": "raw",
    "source": [],
    "metadata": {
     "collapsed": false
    }
   }
  }
 },
 "nbformat": 4,
 "nbformat_minor": 0
}